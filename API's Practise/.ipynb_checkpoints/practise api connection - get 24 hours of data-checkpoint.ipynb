{
 "cells": [
  {
   "cell_type": "code",
   "execution_count": 2,
   "metadata": {
    "collapsed": true
   },
   "outputs": [],
   "source": [
    "import pandas as pd\n",
    "import google2pandas\n",
    "from google2pandas import *\n",
    "conn = GoogleAnalyticsQuery(secrets='client_secret.json', token_file_name='analytics.dat')\n",
    " "
   ]
  },
  {
   "cell_type": "code",
   "execution_count": null,
   "metadata": {
    "collapsed": true
   },
   "outputs": [],
   "source": [
    "conn.execute_query?"
   ]
  },
  {
   "cell_type": "code",
   "execution_count": 5,
   "metadata": {
    "collapsed": true
   },
   "outputs": [],
   "source": [
    "def get_24_hour_data(view_id):\n",
    "    conn = GoogleAnalyticsQuery(secrets='client_secret.json', token_file_name='analytics.dat')\n",
    "    \n",
    "    metrics = ['ga:sessions']\n",
    "    dimensions = ['ga:date','ga:hour','ga:minute']\n",
    "    \n",
    "    df = pd.DataFrame()\n",
    "    \n",
    "    query = {\n",
    "    'ids' : 'ga:' + view_id,\n",
    "    'metrics' : metrics,\n",
    "    'dimensions' : dimensions,    \n",
    "    'start_date' : 'yesterday',\n",
    "    'end_date': 'today',\n",
    "    'max_results': 100000\n",
    "    }\n",
    "\n",
    "    df_holder, metadata = conn.execute_query(**query)\n",
    "    \n",
    "    \n",
    "#     json_data = df_holder.to_json()\n",
    "    \n",
    "    return df_holder"
   ]
  },
  {
   "cell_type": "code",
   "execution_count": 6,
   "metadata": {
    "collapsed": true
   },
   "outputs": [],
   "source": [
    "results = get_24_hour_data('91998326')"
   ]
  },
  {
   "cell_type": "code",
   "execution_count": 8,
   "metadata": {},
   "outputs": [],
   "source": [
    "results['timestamp'] = str(results['date']) + str(results['hour']) + str(results['minute']) \n"
   ]
  },
  {
   "cell_type": "raw",
   "metadata": {
    "collapsed": true
   },
   "source": []
  }
 ],
 "metadata": {
  "kernelspec": {
   "display_name": "Python 3",
   "language": "python",
   "name": "python3"
  },
  "language_info": {
   "codemirror_mode": {
    "name": "ipython",
    "version": 3
   },
   "file_extension": ".py",
   "mimetype": "text/x-python",
   "name": "python",
   "nbconvert_exporter": "python",
   "pygments_lexer": "ipython3",
   "version": "3.6.1"
  }
 },
 "nbformat": 4,
 "nbformat_minor": 2
}
