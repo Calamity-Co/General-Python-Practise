{
 "cells": [
  {
   "cell_type": "code",
   "execution_count": 1,
   "metadata": {
    "collapsed": true
   },
   "outputs": [],
   "source": [
    "import json\n",
    "from watson_developer_cloud import NaturalLanguageClassifierV1"
   ]
  },
  {
   "cell_type": "code",
   "execution_count": 2,
   "metadata": {
    "collapsed": true
   },
   "outputs": [],
   "source": [
    "nlc = NaturalLanguageClassifierV1(username='56d78e6b-3a55-4730-989c-7f7a7afeb635', password='4JuHcVJb6pR6')"
   ]
  },
  {
   "cell_type": "code",
   "execution_count": 3,
   "metadata": {
    "collapsed": false
   },
   "outputs": [],
   "source": [
    "classifiers = nlc.list()"
   ]
  },
  {
   "cell_type": "code",
   "execution_count": 4,
   "metadata": {
    "collapsed": false
   },
   "outputs": [
    {
     "name": "stdout",
     "output_type": "stream",
     "text": [
      "{\n",
      "  \"classifiers\": [\n",
      "    {\n",
      "      \"language\": \"en\",\n",
      "      \"url\": \"https://gateway.watsonplatform.net/natural-language-classifier/api/v1/classifiers/ff1b44x158-nlc-3717\",\n",
      "      \"created\": \"2017-01-13T16:42:30.912Z\",\n",
      "      \"name\": \"Test_Prod_Search\",\n",
      "      \"classifier_id\": \"ff1b44x158-nlc-3717\"\n",
      "    }\n",
      "  ]\n",
      "}\n"
     ]
    }
   ],
   "source": [
    "print(json.dumps(classifiers, indent = 2))"
   ]
  },
  {
   "cell_type": "code",
   "execution_count": 8,
   "metadata": {
    "collapsed": true
   },
   "outputs": [],
   "source": [
    "keyword_class = nlc.classify('ff1b44x158-nlc-3717','ugg boots')"
   ]
  },
  {
   "cell_type": "code",
   "execution_count": 9,
   "metadata": {
    "collapsed": false
   },
   "outputs": [
    {
     "name": "stdout",
     "output_type": "stream",
     "text": [
      "{\n",
      "  \"classes\": [\n",
      "    {\n",
      "      \"confidence\": 0.7096906975946978,\n",
      "      \"class_name\": \"LADIES BRANDED FOOTWEAR\"\n",
      "    },\n",
      "    {\n",
      "      \"confidence\": 0.13009878294903574,\n",
      "      \"class_name\": \"CHILDRENS BRANDED FOOTWEAR\"\n",
      "    },\n",
      "    {\n",
      "      \"confidence\": 0.023849394366003845,\n",
      "      \"class_name\": \"NIGHTWEAR\"\n",
      "    },\n",
      "    {\n",
      "      \"confidence\": 0.023176088138346145,\n",
      "      \"class_name\": \"MENS BRANDED FOOTWEAR\"\n",
      "    },\n",
      "    {\n",
      "      \"confidence\": 0.01217988741571993,\n",
      "      \"class_name\": \"MENS & CHILDRENS ACCESSORIES\"\n",
      "    },\n",
      "    {\n",
      "      \"confidence\": 0.00951089681838685,\n",
      "      \"class_name\": \"OB LADIES FOOTWEAR\"\n",
      "    },\n",
      "    {\n",
      "      \"confidence\": 0.006738694103301248,\n",
      "      \"class_name\": \"MENS SPORTS FOOTWEAR\"\n",
      "    },\n",
      "    {\n",
      "      \"confidence\": 0.005724637340719589,\n",
      "      \"class_name\": \"RIVER ISLAND FOOTWEAR & ESSENTIALS\"\n",
      "    },\n",
      "    {\n",
      "      \"confidence\": 0.004829990155754611,\n",
      "      \"class_name\": \"CONNECTED CONTRACTS\"\n",
      "    },\n",
      "    {\n",
      "      \"confidence\": 0.004391360941467561,\n",
      "      \"class_name\": \"OB CHILDRENS FOOTWEAR\"\n",
      "    }\n",
      "  ],\n",
      "  \"top_class\": \"LADIES BRANDED FOOTWEAR\",\n",
      "  \"url\": \"https://gateway.watsonplatform.net/natural-language-classifier/api/v1/classifiers/ff1b44x158-nlc-3717\",\n",
      "  \"text\": \"ugg boots\",\n",
      "  \"classifier_id\": \"ff1b44x158-nlc-3717\"\n",
      "}\n"
     ]
    }
   ],
   "source": [
    "print(json.dumps(keyword_class, indent=2))"
   ]
  },
  {
   "cell_type": "code",
   "execution_count": 14,
   "metadata": {
    "collapsed": true
   },
   "outputs": [],
   "source": [
    "keyword_class = nlc.classify('ff1b44x158-nlc-3717','play-station')"
   ]
  },
  {
   "cell_type": "code",
   "execution_count": null,
   "metadata": {
    "collapsed": true
   },
   "outputs": [],
   "source": []
  }
 ],
 "metadata": {
  "anaconda-cloud": {},
  "kernelspec": {
   "display_name": "Python [Root]",
   "language": "python",
   "name": "Python [Root]"
  },
  "language_info": {
   "codemirror_mode": {
    "name": "ipython",
    "version": 3
   },
   "file_extension": ".py",
   "mimetype": "text/x-python",
   "name": "python",
   "nbconvert_exporter": "python",
   "pygments_lexer": "ipython3",
   "version": "3.5.2"
  }
 },
 "nbformat": 4,
 "nbformat_minor": 0
}
