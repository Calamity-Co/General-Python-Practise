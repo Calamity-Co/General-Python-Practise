{
 "cells": [
  {
   "cell_type": "code",
   "execution_count": 1,
   "metadata": {
    "collapsed": true
   },
   "outputs": [],
   "source": [
    "from bs4 import BeautifulSoup\n",
    "import requests\n",
    "import simplejson as json\n",
    "import ast\n",
    "import csv\n",
    "import pandas as pd\n",
    "import tqdm"
   ]
  },
  {
   "cell_type": "code",
   "execution_count": 19,
   "metadata": {},
   "outputs": [],
   "source": [
    "r = requests.get('http://www.very.co.uk/json/catalog/product/productInfo.jsp?sdgProductId=1600128534&cb=callback')"
   ]
  },
  {
   "cell_type": "code",
   "execution_count": 20,
   "metadata": {},
   "outputs": [],
   "source": [
    "json_string = r.text"
   ]
  },
  {
   "cell_type": "code",
   "execution_count": 13,
   "metadata": {},
   "outputs": [],
   "source": []
  },
  {
   "cell_type": "code",
   "execution_count": 18,
   "metadata": {},
   "outputs": [
    {
     "ename": "AttributeError",
     "evalue": "'str' object has no attribute 'text'",
     "output_type": "error",
     "traceback": [
      "\u001b[0;31m---------------------------------------------------------------------------\u001b[0m",
      "\u001b[0;31mAttributeError\u001b[0m                            Traceback (most recent call last)",
      "\u001b[0;32m<ipython-input-18-574d4f0cdf0d>\u001b[0m in \u001b[0;36m<module>\u001b[0;34m()\u001b[0m\n\u001b[0;32m----> 1\u001b[0;31m \u001b[0mr\u001b[0m \u001b[0;34m=\u001b[0m \u001b[0mr\u001b[0m\u001b[0;34m.\u001b[0m\u001b[0mtext\u001b[0m\u001b[0;34m.\u001b[0m\u001b[0mstrip\u001b[0m\u001b[0;34m(\u001b[0m\u001b[0;34m'\\r'\u001b[0m\u001b[0;34m)\u001b[0m\u001b[0;34m\u001b[0m\u001b[0m\n\u001b[0m",
      "\u001b[0;31mAttributeError\u001b[0m: 'str' object has no attribute 'text'"
     ]
    }
   ],
   "source": []
  },
  {
   "cell_type": "code",
   "execution_count": 17,
   "metadata": {},
   "outputs": [
    {
     "data": {
      "text/plain": [
       "' \\r \\r \\r   \\r \\r \\r \\r \\r   \\r \\r \\r \\r \\r \\r \\r   callback(\\t\\r\\t\\r\\t\\r\\t\\r \\r\\t\\r\\t\\r \\r \\r\\t\\r\\t\\r\\t\\r \\r\\t\\r\\t\\r\\t{\\n  \"identification\": [\"1600128534\"],\\n  \"productData\": [{\\n    \"identification\": {\\n      \"itemNumber\": \"KTRX6\",\\n      \"prodNumber\": \"prod1086915582\",\\n      \"prdNumber\": \"1600128534\"\\n    },\\n    \"name\": {\\n      \"brand\": \"HP\",\\n      \"title\": \"Stream 14-ax002na&nbsp;Intel&reg; Celeron&reg; Processor, 4Gb RAM, 32Gb Storage, 14 inch Laptop with 12 Months Office 365 Personal and 1Tb OneDrive Cloud Storage - Purple\",\\n      \"longDescription\": \"<h2>The stylish HP Stream 14 is a great value laptop equally suited to work and play.<\\\\/h2><p><\\\\/p>We love that beautiful purple shell and the ultra-portable design means the Stream 14 travels easily to keep you busy and entertained wherever you go.<br /><br />Designed for the always connected life, this nimble laptop lets you easily shift from homework workhorse to box set blitz. The latest wireless technology with improved 802.11 ac 2x2 Wi-Fi antenna delivers a stronger, more reliable Internet connection than before, for buffer-free streaming, blazing-fast downloads, and smooth web surfing.<br /><br />Weighing only 1.45kg, it slips easily into your bag when you\\'re out and about, with an outstanding battery life of more than 10 hours ensuring a fully productive day on the move.<br /><br />The 14 inch screen has a HD 1366x768 resolution, while stereo speakers supported by DTS Studio Sound&trade; enhance all your entertainment, whether you\\'re surfing the web, listening to music or watching a movie.<br /><br />Microsoft Office 365 Personal is included for 12 months, giving you full access to Microsoft Excel, Word, PowerPoint, OneNote, and Access, as well as the ability to store your files in the cloud with the 1Tb (1000Gb) of OneDrive storage.<br /><br />HP Lounge offers unlimited access to music and exclusive content for HP customers, so you will never be short of something to listen to. The built-in webcam and microphone are ideal for video chats.<br /><br />Activation required within 6 months of Windows activation date.<ul><li>Display Size: 14in<\\\\/li><li>Dongle Required: N<\\\\/li><li>Processor: Intel Celeron<\\\\/li><li>Touch Screen: N<\\\\/li><li>Wifi Enabled: Y<\\\\/li><li>DTS Studio Sound&trade;; Dual speakers<\\\\/li><li>1 HDMI; 1 headphone/microphone combo<\\\\/li><li>1 USB 2.0; 2 USB 3.1<\\\\/li><li>1 multi-format SD media card reader<\\\\/li><li>Intel&reg; 802.11a/b/g/n/ac (2x2) Wi-Fi&reg; (Miracast compatible)<\\\\/li><li>Bluetooth&reg; 4.2 Combo<\\\\/li><li>HP Webcam with integrated digital microphone<\\\\/li><li>1 TB OneDrive (1-year Office 365 Personal subscription included)<\\\\/li><li>HP Apps: HP Audio Switch; HP JumpStart; HP Lounge; HP Orbit<\\\\/li><\\\\/ul>\"\\n    },\\n    \"price\": {\\n      \"currency\": \"&pound;\",\\n      \"wasFrom\": \"\",\\n      \"wasTo\": \"\",\\n      \"nowFrom\": \"249.99\",\\n      \"nowToPrice\": \"269.99\",\\n      \"saveFromPrice\": \"\",\\n      \"saveToPrice\": \"\"\\n    },\\n    \"affordability\": {\\n      \"take3\": \"\",\\n      \"lowestWeeklyIBC\": \"\",\\n      \"lowestWeeklyIBCTerm\": \"\",\\n      \"lowestWeeklyIFC\": \"\",\\n      \"lowestWeeklyIFCTerm\": \"\",\\n      \"lowestWeeklySOPrice\": \"\",\\n      \"lowestWeeklySOTerm\": \"\",\\n      \"lowestWeeklyPrice\": \"\"\\n    },\\n    \"reviews\": {\\n      \"total\": \"115\",\\n      \"stars\": \"3.765199899673462\"\\n    },\\n    \"collectPlus\": \"false\",\\n    \"homeApprovalGuarantee\": \"<p>Non returnable under our Approval Guarantee, once installed or connected. Your statutory rights are not affected. See <a href=\\\\\"/help/en/online-help-system/help_returns\\\\\" target=\\\\\"_blank\\\\\">Returns section<\\\\/a> in our Help pages for more information.<\\\\/p>\",\\n    \"personalisation\": \"false\",\\n    \"cnet\": {\\n      \"isCNETProductFeaturesEnabled\": true,\\n      \"productFeatures\": \"\",\\n      \"mainSpecification\": \"<table><tr><td>Product Description<\\\\/td><td>HP Stream 14-ax002na - 14\\\\\" - Celeron N3060 - 4 GB RAM - 32 GB SSD<\\\\/td><\\\\/tr><tr><td>Product Type<\\\\/td><td>Notebook<\\\\/td><\\\\/tr><tr><td>Operating System<\\\\/td><td>Win 10 Home 64-bit - English<\\\\/td><\\\\/tr><tr><td>Processor<\\\\/td><td>Intel Celeron N3060 / 1.6 GHz (2.48 GHz) / 2 MB Cache<\\\\/td><\\\\/tr><tr><td>Memory<\\\\/td><td>4 GB DDR3L<\\\\/td><\\\\/tr><tr><td>Storage<\\\\/td><td>32 GB - eMMC SSD<\\\\/td><\\\\/tr><tr><td>Optical Drive<\\\\/td><td>No optical drive<\\\\/td><\\\\/tr><tr><td>Display<\\\\/td><td>14\\\\\" WLED 1366 x 768 / HD<\\\\/td><\\\\/tr><tr><td>Graphics<\\\\/td><td>Intel HD Graphics 400<\\\\/td><\\\\/tr><tr><td>Input Device<\\\\/td><td>Imagepad<\\\\/td><\\\\/tr><tr><td>Integrated Webcam<\\\\/td><td>Yes<\\\\/td><\\\\/tr><tr><td>Networking<\\\\/td><td>802.11a/b/g/n/ac, Bluetooth 4.2<\\\\/td><\\\\/tr><tr><td>Battery<\\\\/td><td>3-cell<\\\\/td><\\\\/tr><tr><td>Colour<\\\\/td><td>Purple violet, linear grooves pattern<\\\\/td><\\\\/tr><tr><td>Dimensions (WxDxH)<\\\\/td><td>33.7 cm x 22.6 cm x 1.79 cm<\\\\/td><\\\\/tr><tr><td>Weight<\\\\/td><td>1.44 kg<\\\\/td><\\\\/tr><tr><td>Localisation<\\\\/td><td>English / United Kingdom<\\\\/td><\\\\/tr><tr><td>Environmental Standards<\\\\/td><td>ENERGY STAR Qualified<\\\\/td><\\\\/tr><tr><td>Manufacturer Warranty<\\\\/td><td>1 year warranty<\\\\/td><\\\\/tr><\\\\/table>\"\\n    },\\n    \"twoManDeliveryCharge\": \"\",\\n    \"optional\": [],\\n    \"images\": [\\n      {\"src\": \"KTRX6_SQ1_0000000039_PURPLE_SLf\"},\\n      {\"src\": \"KTRX6_SQ2_0000000039_PURPLE_SLb\"},\\n      {\"src\": \"KTRX6_SQ3_0000000039_PURPLE_SLa\"},\\n      {\"src\": \"KTRX6_SQ4_0000000039_PURPLE_SLs\"},\\n      {\"src\": \"KTRX6_SQ5_0000000039_PURPLE_SLd\"}\\n    ],\\n    \"videos\": [{\"src\": \"KTRX6_SQ6_0000000039_PURPLE_DVvL\"}],\\n    \"swatches\": [{\\n      \"name\": \"PURPLE\",\\n      \"src\": \"https://media.very.co.uk/i/very/KTRX6_SQ0_0000000039_PURPLE_SW?$19x19_standard$\",\\n      \"image\": \"KTRX6_SQ1_0000000039_PURPLE_SLf\"\\n    }],\\n    \"options\": [\\n      {\"OPTION\": [\\n        \"Laptop with Microsoft Office 365 Personal\",\\n        \"Laptop with McAfee Livesafe and Office 365 Personal\"\\n      ]},\\n      {\"COLOUR\": [\"PURPLE\"]}\\n    ],\\n    \"stockMatrix\": [\\n      [\\n        \"Laptop with Microsoft Office 365 Personal\",\\n        \"PURPLE\",\\n        \"sku19427615\",\\n        \"Available#Delivery within 1 working days\",\\n        \"249.99\",\\n        null,\\n        null,\\n        \"KTRX635\",\\n        \"\"\\n      ],\\n      [\\n        \"Laptop with McAfee Livesafe and Office 365 Personal\",\\n        \"PURPLE\",\\n        \"sku19543656\",\\n        \"Available#Delivery within 1 working days\",\\n        \"269.99\",\\n        null,\\n        null,\\n        \"KVCPP32\",\\n        \"\"\\n      ]\\n    ],\\n    \"warranties\": {\\n      \"promoContent\": \"<p><ul><li>Protect your laptop against mechanical and electrical breakdown<\\\\/li><li>If we can&#39;t fix it we will replace it<\\\\/li><\\\\/ul><\\\\/p>\\\\t<p>Terms and Conditions apply. The cover period includes the manufacturer&#39;s warranty.<\\\\/p>\\\\t<p>Service Guarantee excludes some situations e.g. accidental damage, any wilful act or neglect. You may already be covered by another product. <a analytics_sp=\\\\\"Financial+Services-_-Prod+Service+Guarantee-_-Explained\\\\\" href=\\\\\"#\\\\\" id=\\\\\"warrantyMoreInfo\\\\\">Find out more<\\\\/a>.<\\\\/p>\\\\t<p>Details on how to make a service request or complaint can be found in the <a analytics_sp=\\\\\"Financial+Services-_-Prod+Service+Guarantee-_-Terms+And+Conditions\\\\\" href=\\\\\"http://common.very.co.uk/assets/static/service-guarantee.pdf\\\\\" target=\\\\\"_blank\\\\\">Terms and Conditions<\\\\/a>.<\\\\/p>\",\\n      \"warrantyExplained\": \"<h2 class=\\\\\"sg\\\\\">Service Guarantee<\\\\/h2><p>Can you imagine life without your laptop? What would you do if it stopped working outside of the manufacturer’s warranty? Add to your peace of mind with Service Guarantee which extends your warranty by providing a repair service for your laptop after the end of the manufacturer’s warranty period.<\\\\/p>\\\\t<p>Key benefits<\\\\/p>\\\\t\\\\t<p><ul><li>We’ll aim to repair your laptop and if it can’t be repaired, we’ll replace it with a laptop of equivalent specification.<\\\\/li><li>Call out, parts and labour charges are all covered.<\\\\/li><li>We use a trusted network of repairers.<\\\\/li><li>The option to spread the cost of the cover on your credit account.<\\\\/li><\\\\/ul><\\\\/p>\\\\t<p>If you already have cover for breakdown through an extended warranty programme included in a premium bank account package or another product this Service Guarantee may not be appropriate for you. Service Guarantee excludes some situations, for example; accidental damage, and any wilful act or neglect. It is not an insurance product.<\\\\/p>\",\\n      \"type\": \"Service Guarantee\",\\n      \"warrantyLeastPrice\": \"36.99\",\\n      \"options\": [\\n        {\\n          \"prod\": \"sku19427615\",\\n          \"sku\": \"sku17029782\",\\n          \"term\": \"2 Year Protection\",\\n          \"price\": \"36.99\",\\n          \"lowestWeekly\": \"\"\\n        },\\n        {\\n          \"prod\": \"sku19427615\",\\n          \"sku\": \"sku17029757\",\\n          \"term\": \"3 Year Protection\",\\n          \"price\": \"49.99\",\\n          \"lowestWeekly\": \"\"\\n        },\\n        {\\n          \"prod\": \"sku19427615\",\\n          \"sku\": \"\",\\n          \"term\": \"No Service Guarantee\",\\n          \"price\": \"\",\\n          \"lowestWeekly\": \"\"\\n        },\\n        {\\n          \"prod\": \"sku19543656\",\\n          \"sku\": \"sku17029782\",\\n          \"term\": \"2 Year Protection\",\\n          \"price\": \"36.99\",\\n          \"lowestWeekly\": \"\"\\n        },\\n        {\\n          \"prod\": \"sku19543656\",\\n          \"sku\": \"sku17029757\",\\n          \"term\": \"3 Year Protection\",\\n          \"price\": \"49.99\",\\n          \"lowestWeekly\": \"\"\\n        },\\n        {\\n          \"prod\": \"sku19543656\",\\n          \"sku\": \"\",\\n          \"term\": \"No Service Guarantee\",\\n          \"price\": \"\",\\n          \"lowestWeekly\": \"\"\\n        }\\n      ]\\n    }\\n  }],\\n  \"status\": \"success\"\\n}\\r\\t\\r\\t\\r \\r   );'"
      ]
     },
     "execution_count": 17,
     "metadata": {},
     "output_type": "execute_result"
    }
   ],
   "source": [
    "r"
   ]
  },
  {
   "cell_type": "code",
   "execution_count": null,
   "metadata": {
    "collapsed": true
   },
   "outputs": [],
   "source": []
  }
 ],
 "metadata": {
  "kernelspec": {
   "display_name": "Python 3",
   "language": "python",
   "name": "python3"
  },
  "language_info": {
   "codemirror_mode": {
    "name": "ipython",
    "version": 3
   },
   "file_extension": ".py",
   "mimetype": "text/x-python",
   "name": "python",
   "nbconvert_exporter": "python",
   "pygments_lexer": "ipython3",
   "version": "3.6.1"
  }
 },
 "nbformat": 4,
 "nbformat_minor": 2
}
