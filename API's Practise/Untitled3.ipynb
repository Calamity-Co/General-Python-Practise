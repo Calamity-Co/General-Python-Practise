{
 "cells": [
  {
   "cell_type": "code",
   "execution_count": 6,
   "metadata": {},
   "outputs": [],
   "source": [
    "from googleapiclient.discovery import build\n",
    "from apiclient.discovery import build\n",
    "from oauth2client import client, file, tools\n",
    "from oauth2client.service_account import ServiceAccountCredentials\n",
    "from sys import stdout\n",
    "from copy import deepcopy\n",
    "\n",
    "import json\n",
    "import pandas as pd\n",
    "import numpy as np\n",
    "import httplib2, os\n",
    "\n",
    "\n",
    "import argparse\n",
    "import httplib2\n",
    "\n",
    "\n",
    "\n",
    "scope = ['https://www.googleapis.com/auth/analytics.readonly']\n",
    "key_file_location = 'sky-victoria-api-service-account.json'\n",
    "\n",
    "\n",
    "def get_service(api_name, api_version, scope, key_file_location):\n",
    "\n",
    "\n",
    "  credentials = ServiceAccountCredentials.from_json_keyfile_name(\n",
    "      key_file_location, scopes=scope)\n",
    "\n",
    "  # Build the service object.\n",
    "  service = build(api_name, api_version, credentials=credentials)\n",
    "\n",
    "  return service\n",
    "\n",
    "\n",
    "def get_results(service, profile_id):\n",
    "  # Use the Analytics Service Object to query the Core Reporting API\n",
    "  # for the number of sessions within the past seven days.\n",
    "  return service.data().ga().get(\n",
    "      ids='ga:' + profile_id,\n",
    "      start_date='today',\n",
    "      end_date='today',\n",
    "      metrics='ga:itemQuantity',\n",
    "      dimensions='ga:productSku',\n",
    "      sort='-ga:itemQuantity',\n",
    "      max_results='5'\n",
    "  ).execute()\n",
    "\n",
    "\n",
    "\n",
    "  # Authenticate and construct service.\n",
    "\n",
    "service = get_service('analytics', 'v3', scope, key_file_location)\n",
    "      \n",
    "\n"
   ]
  },
  {
   "cell_type": "code",
   "execution_count": 7,
   "metadata": {},
   "outputs": [],
   "source": [
    "var = get_results(service, '91998326')"
   ]
  },
  {
   "cell_type": "code",
   "execution_count": 8,
   "metadata": {},
   "outputs": [],
   "source": [
    "var = var['rows']"
   ]
  },
  {
   "cell_type": "code",
   "execution_count": 11,
   "metadata": {},
   "outputs": [
    {
     "data": {
      "text/plain": [
       "'{\"results\": [[\"77D33\", \"88\"], [\"KKK49\", \"76\"], [\"NX297\", \"71\"], [\"LDD67\", \"69\"], [\"6H9QP\", \"58\"]]}'"
      ]
     },
     "execution_count": 11,
     "metadata": {},
     "output_type": "execute_result"
    }
   ],
   "source": [
    "json.dumps({'results': var})"
   ]
  },
  {
   "cell_type": "code",
   "execution_count": null,
   "metadata": {},
   "outputs": [],
   "source": []
  },
  {
   "cell_type": "code",
   "execution_count": null,
   "metadata": {
    "collapsed": true
   },
   "outputs": [],
   "source": []
  }
 ],
 "metadata": {
  "kernelspec": {
   "display_name": "Python 3",
   "language": "python",
   "name": "python3"
  },
  "language_info": {
   "codemirror_mode": {
    "name": "ipython",
    "version": 3
   },
   "file_extension": ".py",
   "mimetype": "text/x-python",
   "name": "python",
   "nbconvert_exporter": "python",
   "pygments_lexer": "ipython3",
   "version": "3.6.1"
  }
 },
 "nbformat": 4,
 "nbformat_minor": 2
}
