{
 "cells": [
  {
   "cell_type": "code",
   "execution_count": 1,
   "metadata": {},
   "outputs": [
    {
     "ename": "SyntaxError",
     "evalue": "invalid syntax (<ipython-input-1-fd44ef04d9af>, line 12)",
     "output_type": "error",
     "traceback": [
      "\u001b[0;36m  File \u001b[0;32m\"<ipython-input-1-fd44ef04d9af>\"\u001b[0;36m, line \u001b[0;32m12\u001b[0m\n\u001b[0;31m    except TypeError, error:\u001b[0m\n\u001b[0m                    ^\u001b[0m\n\u001b[0;31mSyntaxError\u001b[0m\u001b[0;31m:\u001b[0m invalid syntax\n"
     ]
    }
   ],
   "source": [
    "# 1. Create and Execute a Real Time Report\n",
    "# An application can request real-time data by calling the get method on the Analytics service object.\n",
    "# The method requires an ids parameter which specifies from which view (profile) to retrieve data.\n",
    "# For example, the following code requests real-time data for view (profile) ID 56789.\n",
    "\n",
    "try:\n",
    "  service.data().realtime().get(\n",
    "      ids='ga:56789',\n",
    "      metrics='rt:activeUsers',\n",
    "      dimensions='rt:medium').execute()\n",
    "\n",
    "except TypeError, error:\n",
    "  # Handle errors in constructing a query.\n",
    "  print ('There was an error in constructing your query : %s' % error)\n",
    "\n",
    "except HttpError, error:\n",
    "  # Handle API errors.\n",
    "  print ('Arg, there was an API error : %s : %s' %\n",
    "         (error.resp.status, error._get_reason()))\n",
    "\n",
    "\n",
    "# 2. Print out the Real-Time Data\n",
    "# The components of the report can be printed out as follows:\n",
    "\n",
    "def print_realtime_report(results):\n",
    "  print '**Real-Time Report Response**' \n",
    "  print_report_info(results)\n",
    "  print_query_info(results.get('query'))\n",
    "  print_profile_info(results.get('profileInfo'))\n",
    "  print_column_headers(results.get('columnHeaders'))\n",
    "  print_data_table(results)\n",
    "  print_totals_for_all_results(results)\n",
    "\n",
    "def print_data_table(results):\n",
    "  print 'Data Table:'\n",
    "  # Print headers.\n",
    "  output = []\n",
    "  for header in results.get('columnHeaders'):\n",
    "    output.append('%30s' % header.get('name'))\n",
    "  print ''.join(output)\n",
    "  # Print rows.\n",
    "  if results.get('rows', []):\n",
    "    for row in results.get('rows'):\n",
    "      output = []\n",
    "      for cell in row:\n",
    "        output.append('%30s' % cell)\n",
    "      print ''.join(output)\n",
    "  else:\n",
    "    print 'No Results Found'\n",
    "\n",
    "def print_column_headers(headers):\n",
    "  print 'Column Headers:'\n",
    "  for header in headers:\n",
    "    print 'Column name           = %s' % header.get('name')\n",
    "    print 'Column Type           = %s' % header.get('columnType')\n",
    "    print 'Column Data Type      = %s' % header.get('dataType')\n",
    "\n",
    "def print_query_info(query):\n",
    "  if query:\n",
    "    print 'Query Info:'\n",
    "    print 'Ids                   = %s' % query.get('ids')\n",
    "    print 'Metrics:              = %s' % query.get('metrics')\n",
    "    print 'Dimensions            = %s' % query.get('dimensions')\n",
    "    print 'Sort                  = %s' % query.get('sort')\n",
    "    print 'Filters               = %s' % query.get('filters')\n",
    "    print 'Max results           = %s' % query.get('max-results')\n",
    "\n",
    "def print_profile_info(profile_info):\n",
    "  if profile_info:\n",
    "    print 'Profile Info:'\n",
    "    print 'Account ID            = %s' % profile_info.get('accountId')\n",
    "    print 'Web Property ID       = %s' % profile_info.get('webPropertyId')\n",
    "    print 'Profile ID            = %s' % profile_info.get('profileId')\n",
    "    print 'Profile Name          = %s' % profile_info.get('profileName')\n",
    "    print 'Table Id              = %s' % profile_info.get('tableId')\n",
    "\n",
    "def print_report_info(results):\n",
    "  print 'Kind                    = %s' % results.get('kind')\n",
    "  print 'ID                      = %s' % results.get('id')\n",
    "  print 'Self Link               = %s' % results.get('selfLink')\n",
    "  print 'Total Results           = %s' % results.get('totalResults')\n",
    "\n",
    "def print_totals_for_all_results(results):\n",
    "  totals = results.get('totalsForAllResults')\n",
    "  for metric_name, metric_total in totals.iteritems():\n",
    "    print 'Metric Name  = %s' % metric_name\n",
    "    print 'Metric Total = %s' % metric_total"
   ]
  },
  {
   "cell_type": "code",
   "execution_count": null,
   "metadata": {
    "collapsed": true
   },
   "outputs": [],
   "source": []
  }
 ],
 "metadata": {
  "kernelspec": {
   "display_name": "Python 3",
   "language": "python",
   "name": "python3"
  },
  "language_info": {
   "codemirror_mode": {
    "name": "ipython",
    "version": 3
   },
   "file_extension": ".py",
   "mimetype": "text/x-python",
   "name": "python",
   "nbconvert_exporter": "python",
   "pygments_lexer": "ipython3",
   "version": "3.6.1"
  }
 },
 "nbformat": 4,
 "nbformat_minor": 2
}
