{
 "cells": [
  {
   "cell_type": "code",
   "execution_count": 1,
   "metadata": {
    "collapsed": true
   },
   "outputs": [],
   "source": [
    "import sqlparse"
   ]
  },
  {
   "cell_type": "code",
   "execution_count": 2,
   "metadata": {
    "collapsed": true
   },
   "outputs": [],
   "source": [
    "query = \"\"\"\n",
    "SELECT\n",
    "  deviceCategory,\n",
    "  date,\n",
    "  brand,\n",
    "  COUNT(DISTINCT IF(path LIKE '/home.page%'\n",
    "      OR screenName LIKE 'Home Screen',\n",
    "      hit_string,\n",
    "      NULL)) AS home_pageviews,\n",
    "  COUNT(DISTINCT IF(path LIKE '%.prd%',\n",
    "      hit_string,\n",
    "      NULL)) AS product_pageviews,\n",
    "  COUNT(DISTINCT IF(path LIKE '%.end%',\n",
    "      hit_string,\n",
    "      NULL)) AS gallery_pageviews,\n",
    "  COUNT(DISTINCT IF(path LIKE '%/myaccount/%',\n",
    "      hit_string,\n",
    "      NULL)) AS myaccount_pageviews,\n",
    "  COUNT(DISTINCT IF(path LIKE '/basket.page%',\n",
    "      hit_string,\n",
    "      NULL)) AS basket_pageviews,\n",
    "  COUNT(DISTINCT IF(path LIKE '%/checkout/%',\n",
    "      hit_string,\n",
    "      NULL)) AS checkout_pageviews,\n",
    "  COUNT(DISTINCT hit_string) pageviews_total\n",
    "FROM (\n",
    "  SELECT\n",
    "    date,\n",
    "    hit_string,\n",
    "    path,\n",
    "    screenName,\n",
    "    CASE\n",
    "      WHEN source_property IN ('Very App',  'www.Very.co.uk',  'www.very.co.uk') THEN 'Very'\n",
    "      WHEN source_property IN ('Littlewoods App',\n",
    "      'www.littlewoods.com') THEN 'Littlewoods'\n",
    "      WHEN source_property IN ('www.veryexclusive.com' ) THEN 'Very Exclusive'\n",
    "      WHEN source_property IN ('www.littlewoodsireland.ie') THEN 'Littlewoods Ireland'\n",
    "      ELSE '?'\n",
    "    END AS brand,\n",
    "    CASE\n",
    "      WHEN hitType = 'APPVIEW' THEN 'App'\n",
    "      ELSE deviceCategory\n",
    "    END AS deviceCategory\n",
    "  FROM (\n",
    "    SELECT\n",
    "      CONCAT(fullVisitorId, CAST(visitNumber AS string), CAST(h.hitNumber AS string)) AS hit_string,\n",
    "      IF(h.sourcePropertyInfo.sourcePropertyDisplayName IS NULL,\n",
    "        h.page.hostname,\n",
    "        h.sourcePropertyInfo.sourcePropertyDisplayName) AS source_property,\n",
    "      device.deviceCategory AS deviceCategory,\n",
    "      h.page.pagePath AS path,\n",
    "      h.appInfo.screenName AS screenName,\n",
    "      h.type AS hitType,\n",
    "      date\n",
    "    FROM\n",
    "      `pure-chariot-776.93481122.ga_sessions_*`,\n",
    "      UNNEST(hits) h\n",
    "    WHERE\n",
    "      _TABLE_SUFFIX BETWEEN FORMAT_DATE(\"%Y%m%d\", DATE_SUB(CURRENT_DATE(), INTERVAL 5000 DAY))\n",
    "      AND FORMAT_DATE(\"%Y%m%d\", DATE_SUB(CURRENT_DATE(), INTERVAL 1 DAY))\n",
    "      AND h.type IN('PAGE',\n",
    "        'APPVIEW')\n",
    "      AND (h.sourcePropertyInfo.sourcePropertyDisplayName IN( 'www.Very.co.uk',\n",
    "          'www.littlewoods.com',\n",
    "          'www.veryexclusive.com',\n",
    "          'www.littlewoodsireland.ie',\n",
    "          'Very App',\n",
    "          'Littlewoods App' )\n",
    "        OR h.page.hostname IN('www.very.co.uk',\n",
    "          'www.littlewoods.com',\n",
    "          'www.veryexclusive.com',\n",
    "          'www.littlewoodsireland.ie' ))))\n",
    "GROUP BY\n",
    "  date,\n",
    "  deviceCategory,\n",
    "  brand\n",
    "\"\"\""
   ]
  },
  {
   "cell_type": "code",
   "execution_count": 3,
   "metadata": {
    "collapsed": true
   },
   "outputs": [],
   "source": [
    "var = sqlparse.parse(query)"
   ]
  },
  {
   "cell_type": "code",
   "execution_count": 4,
   "metadata": {},
   "outputs": [],
   "source": []
  },
  {
   "cell_type": "code",
   "execution_count": null,
   "metadata": {
    "collapsed": true
   },
   "outputs": [],
   "source": []
  }
 ],
 "metadata": {
  "kernelspec": {
   "display_name": "Python 3",
   "language": "python",
   "name": "python3"
  },
  "language_info": {
   "codemirror_mode": {
    "name": "ipython",
    "version": 3
   },
   "file_extension": ".py",
   "mimetype": "text/x-python",
   "name": "python",
   "nbconvert_exporter": "python",
   "pygments_lexer": "ipython3",
   "version": "3.6.1"
  }
 },
 "nbformat": 4,
 "nbformat_minor": 2
}
