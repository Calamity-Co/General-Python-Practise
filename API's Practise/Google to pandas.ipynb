{
 "cells": [
  {
   "cell_type": "code",
   "execution_count": 2,
   "metadata": {},
   "outputs": [],
   "source": [
    "import pandas as pd"
   ]
  },
  {
   "cell_type": "code",
   "execution_count": 7,
   "metadata": {
    "collapsed": true
   },
   "outputs": [
    {
     "ename": "SystemExit",
     "evalue": "The client secrets were invalid: \n('Error opening file', '../auth/client_secret.json', 'No such file or directory', 2)\nWARNING: Please configure OAuth 2.0\n\nTo make this sample run you will need to populate the client_secrets.json file\nfound at:\n\n   ../auth/client_secret.json\n\nwith information from the APIs Console <https://code.google.com/apis/console>.\n\n",
     "traceback": [
      "An exception has occurred, use %tb to see the full traceback.\n",
      "\u001b[0;31mSystemExit\u001b[0m\u001b[0;31m:\u001b[0m The client secrets were invalid: \n('Error opening file', '../auth/client_secret.json', 'No such file or directory', 2)\nWARNING: Please configure OAuth 2.0\n\nTo make this sample run you will need to populate the client_secrets.json file\nfound at:\n\n   ../auth/client_secret.json\n\nwith information from the APIs Console <https://code.google.com/apis/console>.\n\n\n"
     ],
     "output_type": "error"
    },
    {
     "name": "stderr",
     "output_type": "stream",
     "text": [
      "/Users/Lee/anaconda/lib/python3.6/site-packages/IPython/core/interactiveshell.py:2969: UserWarning: To exit: use 'exit', 'quit', or Ctrl-D.\n  warn(\"To exit: use 'exit', 'quit', or Ctrl-D.\", stacklevel=1)\n"
     ]
    }
   ],
   "source": [
    "from google2pandas import *\n",
    "conn = GoogleAnalyticsQuery(secrets='../auth/client_secret.json', token_file_name=\"../auth/\")\n",
    " "
   ]
  },
  {
   "cell_type": "code",
   "execution_count": null,
   "metadata": {},
   "outputs": [],
   "source": [
    "conn.execute_query"
   ]
  },
  {
   "cell_type": "code",
   "execution_count": 1,
   "metadata": {
    "collapsed": true
   },
   "outputs": [],
   "source": [
    "def get_ga_data(eventName,startDate, endDate, preStartDate, preEndDate):\n",
    "\n",
    "    conn = GoogleAnalyticsQuery(secrets='client_secret.json', token_file_name='analytics.dat')\n",
    "    metrics = ['sessions','transactions','transactionsPerSession','revenuePerTransaction','transactionRevenue']\n",
    "    \n",
    "    segments = [{'syntax':'sessions::condition::!ga:eventAction=@Banner','name':'No Banner Click'},\n",
    "                {'syntax':'sessions::condition::ga:eventAction=@Banner','name':'Banner Click'}]\n",
    "    \n",
    "    df = pd.DataFrame()\n",
    "    \n",
    "    for segment in segments:\n",
    "        query = {\n",
    "        'ids' : '91998326',\n",
    "        'metrics' : metrics,\n",
    "        'start_date' : startDate,\n",
    "        'end_date': endDate,\n",
    "        'segment': segment['syntax'],\n",
    "        }\n",
    "       \n",
    "        df_holder, metadata = conn.execute_query(**query)\n",
    "        df_holder['segment'] = segment['name']\n",
    "        df_holder['Period Start'] = startDate\n",
    "        df_holder['Period End'] = endDate\n",
    "        \n",
    "        query = {\n",
    "        'ids' : '91998326',\n",
    "        'metrics' : metrics,\n",
    "        'start_date' : preStartDate,\n",
    "        'end_date': preEndDate,\n",
    "        'segment': segment['syntax'],\n",
    "        }\n",
    "\n",
    "        pre_df_holder, metadata = conn.execute_query(**query)\n",
    "        pre_df_holder.columns = ['pre-sessions','pre-transactions','pre-transactionsPerSession','pre-revenuePerTransaction','pre-transactionRevenue']\n",
    "        pre_df_holder['Pre Period Start'] = preStartDate\n",
    "        pre_df_holder['Pre Period End'] = preEndDate\n",
    "        df_loop_holder = pd.concat([df_holder,pre_df_holder], axis=1, join='inner')\n",
    "        \n",
    "        df = df.append(df_loop_holder)\n",
    "    \n",
    "    query = {\n",
    "    'ids' : '91998326',\n",
    "    'metrics' : metrics,\n",
    "    'start_date' : startDate,\n",
    "    'end_date': endDate,\n",
    "    }\n",
    "\n",
    "    df_holder, metadata = conn.execute_query(**query)\n",
    "    df_holder['segment'] = 'All Users'\n",
    "    df_holder['Period Start'] = startDate\n",
    "    df_holder['Period End'] = endDate\n",
    "    \n",
    "    query = {\n",
    "    'ids' : '91998326',\n",
    "    'metrics' : metrics,\n",
    "    'start_date' : preStartDate,\n",
    "    'end_date': preEndDate,\n",
    "    }\n",
    "\n",
    "    pre_df_holder, metadata = conn.execute_query(**query)\n",
    "    pre_df_holder.columns = ['pre-sessions','pre-transactions','pre-transactionsPerSession','pre-revenuePerTransaction','pre-transactionRevenue']\n",
    "    pre_df_holder['Pre Period Start'] = preStartDate\n",
    "    pre_df_holder['Pre Period End'] = preEndDate\n",
    "    \n",
    "    df_loop_holder = pd.concat([df_holder,pre_df_holder], axis=1, join='inner')\n",
    "\n",
    "    df = df.append(df_loop_holder)\n",
    "        \n",
    "        \n",
    "    df['event name'] = eventName\n",
    "    df['transactionRevenue'] = df['transactionRevenue'].astype(float)\n",
    "    df['transactionRevenue'] = df['transactionRevenue'].astype(str)\n",
    "    df['pre-transactionRevenue'] = df['pre-transactionRevenue'].astype(float)\n",
    "    df['pre-transactionRevenue'] = df['pre-transactionRevenue'].astype(str)\n",
    "\n",
    "    return df"
   ]
  },
  {
   "cell_type": "code",
   "execution_count": 4,
   "metadata": {},
   "outputs": [],
   "source": [
    "df = get_ga_data('May','2017-01-01', '2017-02-01','2016-01-01','2016-02-01' )\n",
    "df = df.append(get_ga_data('May','2017-01-01', '2017-02-01','2016-01-01','2016-02-01' ))\n"
   ]
  },
  {
   "cell_type": "code",
   "execution_count": 5,
   "metadata": {},
   "outputs": [],
   "source": [
    "df = get_ga_data('Black Friday 2016 - Pre Event' , '2016-11-18' , '2016-11-24' , '2015-01-01' , '2015-01-01')\n",
    "df = df.append(get_ga_data('Black Friday 2016 - BF Weekend' , '2016-11-24' , '2016-11-28' , '2015-01-01' , '2015-01-01'))\n",
    "df = df.append(get_ga_data('Bank Holiday Spring YoY - Easter Pre Event' , '2017-04-06' , '2017-04-13' , '2016-04-21' , '2016-04-21'))\n",
    "df = df.append(get_ga_data('Bank Holiday Spring YoY - Weekend Event' , '2017-04-13' , '2017-04-19' , '2016-04-19' , '2016-04-30'))\n",
    "df = df.append(get_ga_data('Bank Holiday Spring YoY - Monday 1 day event' , '2017-04-17' , '2017-04-17' , '2016-04-28' , '2016-04-28'))\n",
    "df = df.append(get_ga_data('Early May - Pre Event' , '2017-04-20' , '2017-04-26' , '2016-04-22' , '2016-04-29'))\n",
    "df = df.append(get_ga_data('Early May - Weekend Event' , '2017-04-26' , '2017-05-03' , '2016-04-29' , '2016-05-04'))\n",
    "df = df.append(get_ga_data('Early May - Monday 1 Day Event' , '2017-05-01' , '2017-05-01' , '2016-05-02' , '2016-05-02'))\n",
    "df = df.append(get_ga_data('Late May - Pre Event' , '2015-01-01' , '2015-01-01' , '2016-05-20' , '2016-05-25'))\n",
    "df = df.append(get_ga_data('Late May - Weekend Event' , '2017-05-22' , '2017-05-31' , '2016-05-26' , '2016-06-01'))\n",
    "df = df.append(get_ga_data('Late May - Monday 1 Day Event' , '2017-05-29' , '2017-05-29' , '2016-05-30' , '2016-05-30'))\n",
    "df = df.append(get_ga_data('Late May - Price Crash' , '2017-05-04' , '2017-05-04' , '2016-08-04' , '2016-08-04'))"
   ]
  },
  {
   "cell_type": "code",
   "execution_count": 8,
   "metadata": {},
   "outputs": [],
   "source": [
    "df.to_excel('example.xls')\n"
   ]
  },
  {
   "cell_type": "code",
   "execution_count": null,
   "metadata": {
    "collapsed": true
   },
   "outputs": [],
   "source": []
  }
 ],
 "metadata": {
  "kernelspec": {
   "display_name": "Python 3",
   "language": "python",
   "name": "python3"
  },
  "language_info": {
   "codemirror_mode": {
    "name": "ipython",
    "version": 3
   },
   "file_extension": ".py",
   "mimetype": "text/x-python",
   "name": "python",
   "nbconvert_exporter": "python",
   "pygments_lexer": "ipython3",
   "version": "3.6.1"
  }
 },
 "nbformat": 4,
 "nbformat_minor": 2
}
